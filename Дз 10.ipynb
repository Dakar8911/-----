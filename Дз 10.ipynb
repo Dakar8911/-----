{
 "cells": [
  {
   "cell_type": "code",
   "execution_count": null,
   "metadata": {},
   "outputs": [],
   "source": [
    "                                                                            # Задание 1\n",
    "class one:\n",
    "    a = 3\n",
    "    b = 5\n",
    "\n",
    "    def DZ(serf):\n",
    "        "
   ]
  },
  {
   "cell_type": "code",
   "execution_count": 1,
   "metadata": {},
   "outputs": [],
   "source": [
    "class math:\n",
    "    a = 3\n",
    "    b = 5\n",
    "    def __init__(self,a,b):self.a, self.b = a,b\n",
    "    def addition(self): print( self.a+self.b)\n",
    "    def multiplication(self): print( self.a*self.b)\n",
    "    def division(self): print( self.a/self.b)\n",
    "    def subtraction(self): print(self.a - self.b)\n",
    "\n",
    "    math \n"
   ]
  },
  {
   "cell_type": "code",
   "execution_count": 2,
   "metadata": {},
   "outputs": [
    {
     "data": {
      "text/plain": [
       "__main__.math"
      ]
     },
     "execution_count": 2,
     "metadata": {},
     "output_type": "execute_result"
    }
   ],
   "source": [
    "math"
   ]
  },
  {
   "cell_type": "code",
   "execution_count": null,
   "metadata": {},
   "outputs": [],
   "source": [
    "                                                                            #Задание 2\n",
    "class Студент:\n",
    "    name = \"Vasa\"\n",
    "    number = 565654\n",
    "    age = 18"
   ]
  }
 ],
 "metadata": {
  "kernelspec": {
   "display_name": "Python 3",
   "language": "python",
   "name": "python3"
  },
  "language_info": {
   "codemirror_mode": {
    "name": "ipython",
    "version": 3
   },
   "file_extension": ".py",
   "mimetype": "text/x-python",
   "name": "python",
   "nbconvert_exporter": "python",
   "pygments_lexer": "ipython3",
   "version": "3.11.3"
  },
  "orig_nbformat": 4
 },
 "nbformat": 4,
 "nbformat_minor": 2
}
