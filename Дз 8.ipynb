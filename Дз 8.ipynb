{
 "cells": [
  {
   "cell_type": "code",
   "execution_count": null,
   "metadata": {},
   "outputs": [],
   "source": [
    "первое_число =int(input())\n",
    "второе_число =int(input())\n",
    "\n",
    "def Сложение (первое_число,второе_число):\n",
    "    if первое_число > второе_число:\n",
    "        print(второе_число + первое_число)\n",
    "    else:\n",
    "        print(первое_число + второе_число)\n",
    "print(первое_число,\"первое_число\",второе_число,\"второе_число\")\n",
    "\n",
    "Сложение(первое_число,второе_число)"
   ]
  },
  {
   "cell_type": "code",
   "execution_count": 16,
   "metadata": {},
   "outputs": [
    {
     "name": "stdout",
     "output_type": "stream",
     "text": [
      "Привет zakhar Limar\n"
     ]
    }
   ],
   "source": [
    "def blank():\n",
    "    name = str(input('Ваше Имя'))\n",
    "    surname = str(input('Ваше Фамилия'))\n",
    "    print(\"Привет\"+\" \"+name +\" \"+ surname)\n",
    "blank()"
   ]
  },
  {
   "cell_type": "code",
   "execution_count": 23,
   "metadata": {},
   "outputs": [
    {
     "name": "stdout",
     "output_type": "stream",
     "text": [
      "   Периметр Фигуры 24    Площадь Фигуры 12\n"
     ]
    }
   ],
   "source": [
    "#Длинна_a =int(input())\n",
    "#Длинна_b =int(input())\n",
    "#Ширинна_a =int(input())\n",
    "#Ширинна_b =int(input())\n",
    "\n",
    "def Фигура(): #(Длинна_a,Длинна_b,Ширинна_a,Ширинна_b)\n",
    "    Длинна_a =int(input(\"Длинна_a\"))\n",
    "    Длинна_b =int(input(\"Длинна_b\"))\n",
    "    Ширинна_a =int(input(\"Ширинна_a\"))\n",
    "    Ширинна_b =int(input(\"Ширинна_b\"))\n",
    "    Периметр = Длинна_a + Длинна_b + Ширинна_a + Ширинна_b\n",
    "    Площадь = Длинна_a * 2\n",
    "    print( '   Периметр Фигуры', Периметр,'   Площадь Фигуры', Площадь)\n",
    "Фигура()\n",
    "\n"
   ]
  }
 ],
 "metadata": {
  "kernelspec": {
   "display_name": "Python 3",
   "language": "python",
   "name": "python3"
  },
  "language_info": {
   "codemirror_mode": {
    "name": "ipython",
    "version": 3
   },
   "file_extension": ".py",
   "mimetype": "text/x-python",
   "name": "python",
   "nbconvert_exporter": "python",
   "pygments_lexer": "ipython3",
   "version": "3.11.3"
  },
  "orig_nbformat": 4
 },
 "nbformat": 4,
 "nbformat_minor": 2
}
