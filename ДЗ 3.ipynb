{
 "cells": [
  {
   "cell_type": "code",
   "execution_count": 3,
   "metadata": {},
   "outputs": [
    {
     "name": "stdout",
     "output_type": "stream",
     "text": [
      "это число больше 50, но меньше 100\n"
     ]
    }
   ],
   "source": [
    "                                                                            #Задание 1\n",
    "a = int(input())\n",
    "b = 100\n",
    "\n",
    "if a > b:\n",
    "    print('это число больше 100')\n",
    "elif a < b > 50:\n",
    "    print('это число больше 50, но меньше 100')\n",
    "elif a < 50:\n",
    "    print('это число меньше 50')"
   ]
  },
  {
   "cell_type": "code",
   "execution_count": 2,
   "metadata": {},
   "outputs": [
    {
     "name": "stdout",
     "output_type": "stream",
     "text": [
      "Доступ к закрытому контенту предоставлена \n"
     ]
    }
   ],
   "source": [
    "                                                                            #Задание 2\n",
    "a = int(input())\n",
    "\n",
    "if a >= 18:\n",
    "    print(\"Доступ к скрытому контенту предоставлена \")\n",
    "else:\n",
    "    print(\"Прости дружок пирошок но тебе ещё сюда пока рано\")"
   ]
  },
  {
   "cell_type": "code",
   "execution_count": null,
   "metadata": {},
   "outputs": [],
   "source": []
  }
 ],
 "metadata": {
  "kernelspec": {
   "display_name": "Python 3",
   "language": "python",
   "name": "python3"
  },
  "language_info": {
   "codemirror_mode": {
    "name": "ipython",
    "version": 3
   },
   "file_extension": ".py",
   "mimetype": "text/x-python",
   "name": "python",
   "nbconvert_exporter": "python",
   "pygments_lexer": "ipython3",
   "version": "3.11.3"
  },
  "orig_nbformat": 4
 },
 "nbformat": 4,
 "nbformat_minor": 2
}
