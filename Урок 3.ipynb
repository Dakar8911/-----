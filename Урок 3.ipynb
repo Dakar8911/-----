{
 "cells": [
  {
   "cell_type": "code",
   "execution_count": 25,
   "metadata": {},
   "outputs": [
    {
     "name": "stdout",
     "output_type": "stream",
     "text": [
      "ето как то сложно вождя\n"
     ]
    }
   ],
   "source": [
    "a = int(input())\n",
    "b = int(input())\n",
    "\n",
    "if a == b:\n",
    "    print(\"а и б равны\")\n",
    "elif a >= 3 and b <= 8:\n",
    "    print(\"ето как то сложно вождя\")\n",
    "elif a < b:\n",
    "    print(\"a меньше\")\n",
    "elif a > b:\n",
    "    print(\"а больше\")\n",
    "\n",
    "    "
   ]
  },
  {
   "cell_type": "code",
   "execution_count": 33,
   "metadata": {},
   "outputs": [
    {
     "name": "stdout",
     "output_type": "stream",
     "text": [
      "не найдено приветствие\n"
     ]
    }
   ],
   "source": [
    "text = str(input())\n",
    "\n",
    "if \"прив\" in text :\n",
    "    print (\"найдено приветствие\")\n",
    "else:\n",
    "    print (\"не найдено приветствие\")"
   ]
  },
  {
   "cell_type": "code",
   "execution_count": 43,
   "metadata": {},
   "outputs": [
    {
     "name": "stdout",
     "output_type": "stream",
     "text": [
      "нормально знаков\n"
     ]
    }
   ],
   "source": [
    "a = int(input())\n",
    "a = str(a)\n",
    "\n",
    "#print(len(a))\n",
    "\n",
    "if (len(a)) == 5:\n",
    "    print (\"нормально знаков\")\n",
    "elif (len(a)) <=5:\n",
    "    print (\"мало знаков\")\n",
    "elif (len(a)) >=5:\n",
    "    print (\"много знаков\")\n",
    "    \n",
    "   "
   ]
  },
  {
   "cell_type": "code",
   "execution_count": 45,
   "metadata": {},
   "outputs": [
    {
     "name": "stdout",
     "output_type": "stream",
     "text": [
      "8\n"
     ]
    }
   ],
   "source": [
    "b = [1,2,3,4,5,4,3,2]\n",
    "print(len(b))"
   ]
  },
  {
   "cell_type": "code",
   "execution_count": 58,
   "metadata": {},
   "outputs": [
    {
     "name": "stdout",
     "output_type": "stream",
     "text": [
      "Теплее чем вчера 3\n"
     ]
    }
   ],
   "source": [
    "Вчера = int(input())\n",
    "Сегодня = int(input())\n",
    "\n",
    "Вчера = str(Вчера)\n",
    "Сегодня = str(Сегодня)\n",
    "\n",
    "if Вчера > Сегодня:\n",
    "    print('Прохладние чем вчера',Вчера )\n",
    "elif Вчера < Сегодня:\n",
    "    print('Теплее чем вчера',Сегодня)\n",
    "else:\n",
    "    print('Температура без изменений')"
   ]
  }
 ],
 "metadata": {
  "kernelspec": {
   "display_name": "Python 3",
   "language": "python",
   "name": "python3"
  },
  "language_info": {
   "codemirror_mode": {
    "name": "ipython",
    "version": 3
   },
   "file_extension": ".py",
   "mimetype": "text/x-python",
   "name": "python",
   "nbconvert_exporter": "python",
   "pygments_lexer": "ipython3",
   "version": "3.11.3"
  },
  "orig_nbformat": 4
 },
 "nbformat": 4,
 "nbformat_minor": 2
}
