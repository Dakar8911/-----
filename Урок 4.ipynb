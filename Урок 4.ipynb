{
 "cells": [
  {
   "cell_type": "code",
   "execution_count": 3,
   "metadata": {},
   "outputs": [
    {
     "name": "stdout",
     "output_type": "stream",
     "text": [
      "0\n",
      "1\n",
      "2\n",
      "3\n",
      "4\n"
     ]
    }
   ],
   "source": [
    "a = 0\n",
    "\n",
    "while True:\n",
    "    if a == 5:\n",
    "        break\n",
    "    print(a)\n",
    "    a += 1\n",
    "\n"
   ]
  },
  {
   "cell_type": "code",
   "execution_count": 1,
   "metadata": {},
   "outputs": [
    {
     "name": "stdout",
     "output_type": "stream",
     "text": [
      "11\n",
      "10\n",
      "9\n",
      "8\n",
      "7\n",
      "6\n",
      "нашли значение\n"
     ]
    }
   ],
   "source": [
    "b = 11\n",
    "\n",
    "while True:\n",
    "    if b == 5:\n",
    "        print(\"нашли значение\")\n",
    "        break\n",
    "    print(b)\n",
    "    b -= 1"
   ]
  },
  {
   "cell_type": "code",
   "execution_count": null,
   "metadata": {},
   "outputs": [],
   "source": [
    "sales = 950\n",
    "prise = []\n",
    "while True:\n",
    "    prise.append(sales)\n",
    "    print(sales)\n",
    "    sales += 10\n",
    "    if sales == 1030:\n",
    "        print(\"цена стало средней\")\n",
    "        continue\n",
    "    if sales == 1100:\n",
    "        prise.append(1100)\n",
    "        print(\"цена достигла максимума\", prise)\n",
    "        break\n"
   ]
  },
  {
   "cell_type": "code",
   "execution_count": 45,
   "metadata": {},
   "outputs": [
    {
     "name": "stdout",
     "output_type": "stream",
     "text": [
      "10\n",
      "15\n",
      "20\n",
      "25\n",
      "30\n",
      "35\n",
      "40\n"
     ]
    }
   ],
   "source": [
    "s = int(input())\n",
    "cv = 0\n",
    "while True:\n",
    "    cv += 5\n",
    "    if cv == 40:\n",
    "            break\n",
    "    print(cv + s)\n"
   ]
  }
 ],
 "metadata": {
  "kernelspec": {
   "display_name": "Python 3",
   "language": "python",
   "name": "python3"
  },
  "language_info": {
   "codemirror_mode": {
    "name": "ipython",
    "version": 3
   },
   "file_extension": ".py",
   "mimetype": "text/x-python",
   "name": "python",
   "nbconvert_exporter": "python",
   "pygments_lexer": "ipython3",
   "version": "3.11.3"
  },
  "orig_nbformat": 4
 },
 "nbformat": 4,
 "nbformat_minor": 2
}
